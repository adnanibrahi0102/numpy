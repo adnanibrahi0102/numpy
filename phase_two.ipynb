{
 "cells": [
  {
   "cell_type": "markdown",
   "metadata": {},
   "source": [
    "## Numpy array operations"
   ]
  },
  {
   "cell_type": "code",
   "execution_count": 1,
   "metadata": {},
   "outputs": [],
   "source": [
    "import numpy as np "
   ]
  },
  {
   "cell_type": "code",
   "execution_count": 14,
   "metadata": {},
   "outputs": [
    {
     "name": "stdout",
     "output_type": "stream",
     "text": [
      "Array [0 1 2 3 4 5 6 7 8 9]\n",
      "Baisc slicing [2 3 4 5 6]\n",
      "Step slicing [2 4 6]\n",
      "Negative slicing 8\n"
     ]
    }
   ],
   "source": [
    "arr = np.arange(10)\n",
    "#slicing\n",
    "print(\"Array\", arr)\n",
    "print(\"Baisc slicing\", arr[2:7])\n",
    "# step slicing\n",
    "print(\"Step slicing\" , arr[2:8:2])\n",
    "\n",
    "#negative slicing\n",
    "print(\"Negative slicing\" , arr[-2])\n"
   ]
  },
  {
   "cell_type": "markdown",
   "metadata": {},
   "source": [
    "\n",
    "## Two dimensional array slicing"
   ]
  },
  {
   "cell_type": "code",
   "execution_count": 20,
   "metadata": {},
   "outputs": [
    {
     "name": "stdout",
     "output_type": "stream",
     "text": [
      "2D array [[1 2 3]\n",
      " [4 5 6]\n",
      " [7 8 9]]\n",
      "Specific element 6\n",
      "Entire row  [4 5 6]\n",
      "Entire column [3 6 9]\n"
     ]
    }
   ],
   "source": [
    "array_2d = np.array([[1,2,3],[4,5,6],[7,8,9]])\n",
    "print(\"2D array\", array_2d)\n",
    "#specific element\n",
    "print(\"Specific element\" , array_2d[1 ,2])\n",
    "# target entire row\n",
    "print(\"Entire row \" , array_2d[1] )\n",
    "\n",
    "#target entire column\n",
    "print(\"Entire column\" , array_2d[: , 2])"
   ]
  },
  {
   "cell_type": "markdown",
   "metadata": {},
   "source": [
    "### Sorting"
   ]
  },
  {
   "cell_type": "code",
   "execution_count": 24,
   "metadata": {},
   "outputs": [
    {
     "name": "stdout",
     "output_type": "stream",
     "text": [
      "Unsorted array [1 3 2 5 4 6 7 8 9]\n",
      "Sorted array [1 2 3 4 5 6 7 8 9]\n",
      "Unsorted 2D array [[1 4 2]\n",
      " [3 1 5]\n",
      " [7 8 6]]\n",
      "Sorted 2D array [[1 1 2]\n",
      " [3 4 5]\n",
      " [7 8 6]]\n"
     ]
    }
   ],
   "source": [
    "unsorted_Array = np.array([1,3,2,5,4,6,7,8,9])\n",
    "print(\"Unsorted array\", unsorted_Array)\n",
    "#sorting\n",
    "print(\"Sorted array\" , np.sort(unsorted_Array))\n",
    "\n",
    "#sorting 2D array\n",
    "unsorted_2d_array = np.array([[1,4,2],[3,1,5],[7,8,6]])\n",
    "print(\"Unsorted 2D array\", unsorted_2d_array)\n",
    "print(\"Sorted 2D array\" , np.sort(unsorted_2d_array , axis=0))"
   ]
  },
  {
   "cell_type": "markdown",
   "metadata": {},
   "source": [
    "## Filter"
   ]
  },
  {
   "cell_type": "markdown",
   "metadata": {},
   "source": []
  },
  {
   "cell_type": "code",
   "execution_count": 25,
   "metadata": {},
   "outputs": [
    {
     "name": "stdout",
     "output_type": "stream",
     "text": [
      "Even numbers [2 4 6 8]\n"
     ]
    }
   ],
   "source": [
    "numbers = np.array([1,2,3,4,5,6,7,8,9])\n",
    "even_numbers = numbers[numbers % 2 == 0]\n",
    "print(\"Even numbers\", even_numbers)"
   ]
  },
  {
   "cell_type": "markdown",
   "metadata": {},
   "source": [
    "### Filter with mask"
   ]
  },
  {
   "cell_type": "code",
   "execution_count": 27,
   "metadata": {},
   "outputs": [
    {
     "name": "stdout",
     "output_type": "stream",
     "text": [
      "Mask [False False False  True  True  True  True  True  True]\n",
      "Masked numbers [4 5 6 7 8 9]\n"
     ]
    }
   ],
   "source": [
    "mask = numbers > 3\n",
    "print(\"Mask\" , mask)\n",
    "print(\"Masked numbers\" , numbers[mask])"
   ]
  },
  {
   "cell_type": "markdown",
   "metadata": {},
   "source": [
    "### Fancy indexing vs np.where()"
   ]
  },
  {
   "cell_type": "code",
   "execution_count": null,
   "metadata": {},
   "outputs": [
    {
     "name": "stdout",
     "output_type": "stream",
     "text": [
      "numbers at indices [100 100 100]\n",
      "Where result  [4 5 6 7 8 9]\n",
      "Condition array [ 1  2  3  8 10 12 14 16 18]\n"
     ]
    }
   ],
   "source": [
    "indices = [0,3,5]\n",
    "print(\"numbers at indices\" , numbers[indices])\n",
    "\n",
    "nums = np.array([1,2,3,4,5,6,7,8,9])\n",
    "# where function\n",
    "where_result = np.where(nums > 3)\n",
    "print(\"Where result \" , nums[where_result])\n",
    "\n",
    "#condition array means if the condition is true then multiply the number by 2 else keep the number as it is\n",
    "condition_array = np.where(nums > 3 , nums*2 , nums)\n",
    "print(\"Condition array\" , condition_array)"
   ]
  },
  {
   "cell_type": "markdown",
   "metadata": {},
   "source": [
    "### Merging , array compatiblity"
   ]
  },
  {
   "cell_type": "code",
   "execution_count": 2,
   "metadata": {},
   "outputs": [
    {
     "name": "stdout",
     "output_type": "stream",
     "text": [
      "Concatenation [ 1  2  3  4  5  6  7  8  9 10]\n",
      "Stacking [[ 1  2  3  4  5]\n",
      " [ 6  7  8  9 10]]\n",
      "Compatibilty shapes True\n"
     ]
    }
   ],
   "source": [
    "arr1 = np.array([1,2,3,4,5])\n",
    "arr2 = np.array([6,7,8,9,10])\n",
    "#concatenation\n",
    "print(\"Concatenation\" , np.concatenate((arr1,arr2)))\n",
    "\n",
    "#stacking means stacking the arrays on top of each other or side by side \n",
    "print(\"Stacking\" , np.stack((arr1,arr2)))\n",
    "\n",
    "#compatiblity shapes\n",
    "a = np.array([1,2,3])\n",
    "b = np.array([4,5,6])\n",
    "c = np.array([7,8,9])\n",
    "\n",
    "print(\"Compatibilty shapes\" ,a.shape == b.shape == c.shape)"
   ]
  }
 ],
 "metadata": {
  "kernelspec": {
   "display_name": "venv",
   "language": "python",
   "name": "python3"
  },
  "language_info": {
   "codemirror_mode": {
    "name": "ipython",
    "version": 3
   },
   "file_extension": ".py",
   "mimetype": "text/x-python",
   "name": "python",
   "nbconvert_exporter": "python",
   "pygments_lexer": "ipython3",
   "version": "3.12.1"
  }
 },
 "nbformat": 4,
 "nbformat_minor": 2
}
