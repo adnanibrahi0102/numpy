{
 "cells": [
  {
   "cell_type": "markdown",
   "metadata": {},
   "source": [
    "## Numpy Basics"
   ]
  },
  {
   "cell_type": "code",
   "execution_count": 3,
   "metadata": {},
   "outputs": [],
   "source": [
    "import numpy as np\n"
   ]
  },
  {
   "cell_type": "markdown",
   "metadata": {},
   "source": [
    "### numpy arrays"
   ]
  },
  {
   "cell_type": "code",
   "execution_count": 5,
   "metadata": {},
   "outputs": [
    {
     "name": "stdout",
     "output_type": "stream",
     "text": [
      "one Dimensional array [1 2 3 4 5]\n",
      "Two Dimensional array [[1 2 3 4]\n",
      " [5 6 7 8]]\n"
     ]
    }
   ],
   "source": [
    "arr_1d = np.array([1,2,3,4,5])\n",
    "print(\"one Dimensional array\" , arr_1d)\n",
    "\n",
    "arr_2d = np.array([[1,2,3,4],[5,6,7,8]])\n",
    "print(\"Two Dimensional array\" , arr_2d)"
   ]
  },
  {
   "cell_type": "markdown",
   "metadata": {},
   "source": [
    "### List vs Numpy Array"
   ]
  },
  {
   "cell_type": "code",
   "execution_count": null,
   "metadata": {},
   "outputs": [
    {
     "name": "stdout",
     "output_type": "stream",
     "text": [
      "Python list multiplication [1, 2, 3, 4, 5, 1, 2, 3, 4, 5]\n",
      "Numpy array multiplication [ 2  4  6  8 10 12]\n"
     ]
    }
   ],
   "source": [
    "py_list = [1,2,3,4,5]\n",
    "print(\"Python list multiplication\" , py_list*2) # list multiplication\n",
    "\n",
    "np_array = np.array([1,2,3,4,5,6])\n",
    "print(\"Numpy array multiplication\" , np_array*2)  # element wise multiplication"
   ]
  },
  {
   "cell_type": "code",
   "execution_count": 11,
   "metadata": {},
   "outputs": [
    {
     "name": "stdout",
     "output_type": "stream",
     "text": [
      " \n",
      " Time taken for python list multiplication 0.017306089401245117\n",
      " \n",
      " Time taken for numpy array multiplication 0.005015850067138672\n"
     ]
    }
   ],
   "source": [
    "import time\n",
    "start = time.time()\n",
    "\n",
    "py_List = [i*2 for i in range(100000)]\n",
    "print(\" \\n Time taken for python list multiplication\" , time.time()-start)\n",
    "\n",
    "start = time.time()\n",
    "np_array = np.arange(10000)*2\n",
    "print(\" \\n Time taken for numpy array multiplication\" , time.time()-start)"
   ]
  },
  {
   "cell_type": "markdown",
   "metadata": {},
   "source": [
    "### creating arrays from scratch in numpy"
   ]
  },
  {
   "cell_type": "code",
   "execution_count": 21,
   "metadata": {},
   "outputs": [
    {
     "name": "stdout",
     "output_type": "stream",
     "text": [
      "\n",
      " Zeros array [[0. 0. 0. 0.]\n",
      " [0. 0. 0. 0.]\n",
      " [0. 0. 0. 0.]]\n",
      "\n",
      " Ones array [[1. 1. 1. 1. 1.]\n",
      " [1. 1. 1. 1. 1.]\n",
      " [1. 1. 1. 1. 1.]\n",
      " [1. 1. 1. 1. 1.]]\n",
      "\n",
      " Full array [[9 9 9 9]\n",
      " [9 9 9 9]\n",
      " [9 9 9 9]]\n",
      "\n",
      " Random array [[0.46986317 0.02378964 0.04985042 0.32665278 0.20796553 0.70830427]\n",
      " [0.28189118 0.14179903 0.72403708 0.26638835 0.26259174 0.69905793]\n",
      " [0.04899817 0.80951869 0.44301147 0.89350939 0.46189442 0.59229665]]\n",
      "\n",
      " Sequence array [ 2  4  6  8 10 12 14 16 18]\n"
     ]
    }
   ],
   "source": [
    "zeros_array = np.zeros((3,4)) # 3 rows and 4 columns\n",
    "print(\"\\n Zeros array\" , zeros_array)\n",
    "\n",
    "ones_array = np.ones((4,5)) # 4 rows and 5 columns\n",
    "print(\"\\n Ones array\" , ones_array)\n",
    "\n",
    "full_array = np.full((3,4) ,9) # full array means all elements are same in the array like 9\n",
    "print(\"\\n Full array\" , full_array)\n",
    "\n",
    "random = np.random.random((3,6)) # random array of 3 rows and 6 columns\n",
    "print(\"\\n Random array\" , random)\n",
    "\n",
    "sequence_array = np.arange(2,20,2) # start from 2 and end at 20 with step of 2\n",
    "print(\"\\n Sequence array\" , sequence_array)"
   ]
  },
  {
   "cell_type": "markdown",
   "metadata": {},
   "source": [
    "## VECTOR MATRICES AND TENSOR "
   ]
  },
  {
   "cell_type": "code",
   "execution_count": 24,
   "metadata": {},
   "outputs": [
    {
     "name": "stdout",
     "output_type": "stream",
     "text": [
      "\n",
      " Vector [1 2 3 4]\n",
      "\n",
      " Matrix [[1 2 3 4]\n",
      " [5 6 7 8]]\n",
      "\n",
      " Tensor [[[ 1  2  3  4]\n",
      "  [ 5  6  7  8]]\n",
      "\n",
      " [[ 9 10 11 12]\n",
      "  [13 14 15 16]]]\n"
     ]
    }
   ],
   "source": [
    "# vector \n",
    "vector = np.array([1,2,3,4,])\n",
    "print(\"\\n Vector\" , vector)\n",
    "\n",
    "# matrix\n",
    "matrix = np.array([[1,2,3,4], [5,6,7,8]])\n",
    "print(\"\\n Matrix\" , matrix)\n",
    "\n",
    "#tensor \n",
    "tensor = np.array([[[1,2,3,4],[5,6,7,8]],\n",
    "                   [[9,10,11,12],[13,14,15,16]]]) # tesnor of 2x2x4 that means 2 matrix of 2x4 multi dimensional array \n",
    "print(\"\\n Tensor\" , tensor)"
   ]
  },
  {
   "cell_type": "markdown",
   "metadata": {},
   "source": [
    "### Array Properties"
   ]
  },
  {
   "cell_type": "markdown",
   "metadata": {},
   "source": []
  }
 ],
 "metadata": {
  "kernelspec": {
   "display_name": "venv",
   "language": "python",
   "name": "python3"
  },
  "language_info": {
   "codemirror_mode": {
    "name": "ipython",
    "version": 3
   },
   "file_extension": ".py",
   "mimetype": "text/x-python",
   "name": "python",
   "nbconvert_exporter": "python",
   "pygments_lexer": "ipython3",
   "version": "3.12.1"
  }
 },
 "nbformat": 4,
 "nbformat_minor": 2
}
